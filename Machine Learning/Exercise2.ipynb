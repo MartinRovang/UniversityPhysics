{
 "cells": [
  {
   "cell_type": "code",
   "execution_count": 1,
   "metadata": {
    "collapsed": true
   },
   "outputs": [],
   "source": [
    "#Problem 1\n",
    "\n",
    "import numpy as np \n",
    "\n",
    "\n",
    "#Transition matrix\n",
    "A = np.array([[0.03,0.19,0.27,0.51],[0.24,0.23,0.33,0.20],[0.21,0.42,0.19,0.18],[0.22,0.34,0.08,0.36]])\n",
    "\n",
    "#Steady state vector/Stationary probability\n",
    "#stat_prob_0 = np.array([0.19,0.30,0.21,0.30])\n",
    "\n",
    "\n",
    "#Power method\n",
    "def power_method(A, iterations, init_vec):\n",
    "\n",
    "    A = A.T\n",
    "    #Converge Transition matrix\n",
    "    for i in range(iterations):\n",
    "        AA = np.linalg.matrix_power(A,i)\n",
    "        AAA = AA@init_vec\n",
    "\n",
    "\n",
    "    return AAA\n",
    "\n",
    "\n",
    "# power_method(A, 5)\n",
    "\n"
   ]
  },
  {
   "cell_type": "code",
   "execution_count": 2,
   "metadata": {},
   "outputs": [
    {
     "name": "stdout",
     "output_type": "stream",
     "text": [
      "-------Raw Trans Matrix A--------\n",
      "[ 0.38709677  0.12903226  0.29032258  0.19354839]\n",
      "-------Raw Trans Matrix B--------\n",
      "[ 0.25   0.     0.375  0.375  0.   ]\n",
      "--------Google Matrix A---------\n",
      "[ 0.36815068  0.14180936  0.28796163  0.20207834]\n",
      "--------Google Matrix B---------\n",
      "[ 0.20000001  0.19999998  0.28500001  0.28500001  0.03      ]\n"
     ]
    }
   ],
   "source": [
    "#Problem 2_a\n",
    "\n",
    "init_vec_a = np.array([0,1/3,1/3,1/3])\n",
    "init_vec_b = np.array([0,1/4,1/4,1/4,1/4])\n",
    "\n",
    "H_a = np.array([[0,1/3,1/3,1/3],[0,0,1/2,1/2],[1,0,0,0],[1/2,0,1/2,0]])\n",
    "H_b = np.array([[0,1,0,0,0],[1,0,0,0,0],[0,0,0,1,0],[0,0,1,0,0],[0,0,1/2,1/2,0]])\n",
    "\n",
    "alpha = 0.85\n",
    "\n",
    "\n",
    "def google_mat(alpha, S):\n",
    "    e = np.ones(len(S))\n",
    "    E = 1/len(S)*np.outer(e,e)\n",
    "    G = alpha*S + (1-alpha)*E\n",
    "    return G\n",
    "\n",
    "G_a = google_mat(0.85,H_a)\n",
    "G_b = google_mat(0.85,H_b)\n",
    "\n",
    "\n",
    "\n",
    "\n",
    "\n",
    "\n",
    "\n",
    "print('-------Raw Trans Matrix A--------')\n",
    "print(power_method(H_a, 100, init_vec_a))\n",
    "print('-------Raw Trans Matrix B--------')\n",
    "print(power_method(H_b, 100, init_vec_b))\n",
    "print('--------Google Matrix A---------')\n",
    "print(power_method(G_a, 100, init_vec_a))\n",
    "print('--------Google Matrix B---------')\n",
    "print(power_method(G_b, 100, init_vec_b))\n"
   ]
  },
  {
   "cell_type": "code",
   "execution_count": 3,
   "metadata": {},
   "outputs": [
    {
     "name": "stdout",
     "output_type": "stream",
     "text": [
      "-------Raw Trans Matrix 2A--------\n",
      "[ 0.24489796  0.08163265  0.36734694  0.12244898  0.18367347]\n",
      "--------Google Matrix 2A---------\n",
      "[ 0.23714058  0.09718983  0.34889409  0.13849551  0.17827999]\n"
     ]
    }
   ],
   "source": [
    "#Problem 2_b\n",
    "print('-------Raw Trans Matrix 2A--------')\n",
    "H_2a = np.array([[0,1/3,1/3,1/3,0],[0,0,1/2,1/2,0],[1/2,0,0,0,1/2],[1/2,0,1/2,0,0],[0,0,1,0,0]])\n",
    "G_2a = alpha*H_2a + (1 - alpha)*1/len(H_2a[0])\n",
    "print(power_method(H_2a, 100, init_vec_b))\n",
    "print('--------Google Matrix 2A---------')\n",
    "print(power_method(G_2a, 100, init_vec_b))\n"
   ]
  },
  {
   "cell_type": "markdown",
   "metadata": {},
   "source": [
    "![Title](img/Trans.png)"
   ]
  },
  {
   "cell_type": "code",
   "execution_count": 4,
   "metadata": {},
   "outputs": [
    {
     "name": "stdout",
     "output_type": "stream",
     "text": [
      "--------Tromsø transition matrix---------\n",
      "[[ 0.    0.5   0.5 ]\n",
      " [ 0.25  0.5   0.25]\n",
      " [ 0.25  0.25  0.5 ]]\n",
      "--------Ranked---------\n",
      "Good day %      Snow %       Rain %\n",
      "[ 0.2  0.4  0.4]\n",
      "[ 0.21649485  0.39175258  0.39175258]\n"
     ]
    }
   ],
   "source": [
    "import numpy as np\n",
    "\n",
    "#Problem 2_b\n",
    "\n",
    "#Transition Matrix\n",
    "init_vec_tromso = np.array([1/2,1/2,0])\n",
    "print('--------Tromsø transition matrix---------')\n",
    "H_tromso = np.array([[0,1/2,1/2],[1/4,1/2,1/4],[1/4,1/4,1/2]])\n",
    "G_troms = google_mat(0.85,H_tromso)\n",
    "print(H_tromso)\n",
    "\n",
    "\n",
    "print('--------Ranked---------')\n",
    "print('{:<15} {:<12} {}'.format('Good day %','Snow %', 'Rain %'))\n",
    "print(power_method(H_tromso, 100, init_vec_tromso))\n",
    "print(power_method(G_troms, 100, init_vec_tromso))\n"
   ]
  },
  {
   "cell_type": "code",
   "execution_count": null,
   "metadata": {
    "collapsed": true
   },
   "outputs": [],
   "source": []
  }
 ],
 "metadata": {
  "kernelspec": {
   "display_name": "Python 3",
   "language": "python",
   "name": "python3"
  },
  "language_info": {
   "codemirror_mode": {
    "name": "ipython",
    "version": 3
   },
   "file_extension": ".py",
   "mimetype": "text/x-python",
   "name": "python",
   "nbconvert_exporter": "python",
   "pygments_lexer": "ipython3",
   "version": "3.6.3"
  }
 },
 "nbformat": 4,
 "nbformat_minor": 2
}
