{
 "cells": [
  {
   "cell_type": "code",
   "execution_count": 77,
   "metadata": {},
   "outputs": [
    {
     "name": "stdout",
     "output_type": "stream",
     "text": [
      "4.285714\n",
      "HEYSANN Heisann\n",
      "15\n",
      "['Hello', 'Hey', 'wow']\n",
      "['Fleee', 'Hey', 'wow']\n",
      "['Toyota', 'Larve']\n",
      "female\n",
      "201\n",
      "[4, 6, 8, 10]\n"
     ]
    }
   ],
   "source": [
    "\n",
    "def meanfunction(x):\n",
    "    return '%f'%(sum(x)/len(x))\n",
    "    \n",
    "    \n",
    "\n",
    "Data = [1,6,2,8,3,6,4]\n",
    "\n",
    "print(meanfunction(Data))\n",
    "\n",
    "\n",
    "\n",
    "\n",
    "\n",
    "x = \"Heisann\"\n",
    "y = \"Epsann\"\n",
    "\n",
    "print(\"HEYSANN \" + x)\n",
    "\n",
    "z = 5\n",
    "p = 10\n",
    "\n",
    "print(z+p)\n",
    "\n",
    "\n",
    "\n",
    "\n",
    "listed = [\"Hey\", \"wow\"]\n",
    "\n",
    "listed.insert(0,\"Hello\")\n",
    "\n",
    "print(listed)\n",
    "\n",
    "\n",
    "tupleed = tuple((\"hello\", \"heysannn\", \"wow\"))\n",
    "\n",
    "listed[0] = \"Fleee\"\n",
    "\n",
    "# tupleed[0] = \"Flee\" IKKE LOV FORDI TUPLE ER UNCHANGEABLE\n",
    "\n",
    "print(listed)\n",
    "\n",
    "\n",
    "dictered = {\n",
    "    \"Cars\": [\"Toyota\", \"Larve\"],\n",
    "    \"Stores\": \"Kiwi\",\n",
    "    \"Industri\": \"Norsk Hydro\"\n",
    "}\n",
    "\n",
    "print(dictered['Cars'])\n",
    "\n",
    "dict2 = {'Sex': 'female' }\n",
    "\n",
    "dictered.update(dict2)\n",
    "\n",
    "print(dictered['Sex'])\n",
    "\n",
    "\n",
    "\n",
    "\n",
    "#x -> function,y,j -> variable \n",
    "x = lambda y,j: y*20 + j\n",
    "\n",
    "print(x(10,1))\n",
    "\n",
    "\n",
    "testarray = [1,2,3,4]\n",
    "testarray2 = [3,4,5,6]\n",
    "\n",
    "print([i+h for i,h in zip(testarray,testarray2)]) #https://docs.python.org/3.3/library/functions.html\n",
    "\n",
    "#zipping -> (1,3),(2,4)....\n",
    "#list(zipping) or [] -> [(1,3),(2,4)....]"
   ]
  },
  {
   "cell_type": "code",
   "execution_count": null,
   "metadata": {},
   "outputs": [],
   "source": []
  }
 ],
 "metadata": {
  "kernelspec": {
   "display_name": "Python 3",
   "language": "python",
   "name": "python3"
  },
  "language_info": {
   "codemirror_mode": {
    "name": "ipython",
    "version": 3
   },
   "file_extension": ".py",
   "mimetype": "text/x-python",
   "name": "python",
   "nbconvert_exporter": "python",
   "pygments_lexer": "ipython3",
   "version": "3.6.5"
  }
 },
 "nbformat": 4,
 "nbformat_minor": 2
}
