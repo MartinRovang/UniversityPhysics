{
 "cells": [
  {
   "cell_type": "code",
   "execution_count": 25,
   "metadata": {},
   "outputs": [
    {
     "name": "stdout",
     "output_type": "stream",
     "text": [
      "Starthastighet: 100\n"
     ]
    },
    {
     "data": {
      "image/png": "[encoded data removed]",
      "text/plain": [
       "<matplotlib.figure.Figure at 0x22e54023400>"
      ]
     },
     "metadata": {},
     "output_type": "display_data"
    }
   ],
   "source": [
    "import matplotlib.pyplot as plt\n",
    "import numpy as np\n",
    "\n",
    "\n",
    "#Konstanter\n",
    "g = 9.81\n",
    "q = np.pi/4\n",
    "dt = np.linspace(0, 20, 100)\n",
    "alpha = 10\n",
    "\n",
    "def position(vo):\n",
    "    vox = vo * np.cos(q)\n",
    "    voy = vo * np.sin(q)\n",
    "    x = vox*dt\n",
    "    y = -(1/2)*g*dt**2+voy*dt\n",
    "    plt.plot(dt,y)\n",
    "    plt.ylim(0,1000)\n",
    "    plt.xlim(0,20)\n",
    "    plt.plot(dt,x)\n",
    "    plt.show()\n",
    "vo = int(input('Starthastighet: '))\n",
    "position(vo)\n"
   ]
  },
  {
   "cell_type": "code",
   "execution_count": 1,
   "metadata": {},
   "outputs": [
    {
     "name": "stdout",
     "output_type": "stream",
     "text": [
      "Tid 8.048 s\n"
     ]
    }
   ],
   "source": [
    "import matplotlib.pyplot as plt\n",
    "import numpy as np\n",
    "\n",
    "\n",
    "r = 1\n",
    "r1 = 0\n",
    "q = np.pi/18\n",
    "q1 = 0\n",
    "dt = 0.001\n",
    "g = 9.81\n",
    "i = 0\n",
    "while (r < 2):\n",
    "    r2 = (((r*q1**2)-(g*(1-np.cos(q))))/2)\n",
    "    r = r + r1*dt\n",
    "    r1 = r1 + r2*dt\n",
    "    q2 = ((-2*r1*q1/r)-(g*np.sin(q)/r))\n",
    "    q = q + q1*dt\n",
    "    q1 = q1 + q2*dt\n",
    "    t = i*dt\n",
    "    i = i + 1\n",
    "\n",
    "print(\"Tid\",t,\"s\")"
   ]
  },
  {
   "cell_type": "code",
   "execution_count": 27,
   "metadata": {
    "scrolled": true
   },
   "outputs": [
    {
     "name": "stdout",
     "output_type": "stream",
     "text": [
      "Enter r: 10\n",
      "Enter theta in degrees: 20\n",
      "x =  9.396926207859085 , y =  3.420201433256687\n"
     ]
    }
   ],
   "source": [
    "from math import sin,cos,pi\n",
    "\n",
    "# Ask the user for the values of r and theta\n",
    "r = float(input(\"Enter r: \"))\n",
    "d = float(input(\"Enter theta in degrees: \"))\n",
    "\n",
    "# Convert the angle to radians\n",
    "theta = d*pi/180\n",
    "\n",
    "# Calculate the equivalent Cartesian coordinates\n",
    "x = r*cos(theta)\n",
    "y = r*sin(theta)\n",
    "\n",
    "# Print out the results\n",
    "print(\"x = \",x,\", y = \",y)"
   ]
  },
  {
   "cell_type": "code",
   "execution_count": 2,
   "metadata": {},
   "outputs": [
    {
     "name": "stdout",
     "output_type": "stream",
     "text": [
      "3\n",
      "2\n",
      "1\n"
     ]
    }
   ],
   "source": [
    "class node:\n",
    "    def __init__(self):\n",
    "        self.data = None # contains the data\n",
    "        self.next = None # contains the reference to the next node\n",
    "\n",
    "\n",
    "class linked_list:\n",
    "    def __init__(self):\n",
    "        self.cur_node = None\n",
    "\n",
    "    def add_node(self, data):\n",
    "        new_node = node() # create a new node\n",
    "        new_node.data = data\n",
    "        new_node.next = self.cur_node # link the new node to the 'previous' node.\n",
    "        self.cur_node = new_node #  set the current node to the new one.\n",
    "\n",
    "    def list_print(self):\n",
    "        node = self.cur_node # cant point to ll!\n",
    "        while node:\n",
    "            print (node.data)\n",
    "            node = node.next\n",
    "\n",
    "\n",
    "\n",
    "ll = linked_list()\n",
    "ll.add_node(1)\n",
    "ll.add_node(2)\n",
    "ll.add_node(3)\n",
    "\n",
    "ll.list_print()"
   ]
  },
  {
   "cell_type": "code",
   "execution_count": null,
   "metadata": {
    "collapsed": true
   },
   "outputs": [],
   "source": []
  }
 ],
 "metadata": {
  "kernelspec": {
   "display_name": "Python 3",
   "language": "python",
   "name": "python3"
  },
  "language_info": {
   "codemirror_mode": {
    "name": "ipython",
    "version": 3
   },
   "file_extension": ".py",
   "mimetype": "text/x-python",
   "name": "python",
   "nbconvert_exporter": "python",
   "pygments_lexer": "ipython3",
   "version": "3.6.1"
  }
 },
 "nbformat": 4,
 "nbformat_minor": 2
}
