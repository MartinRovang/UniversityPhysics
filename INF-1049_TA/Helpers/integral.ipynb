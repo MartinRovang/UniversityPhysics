{
 "cells": [
  {
   "cell_type": "code",
   "execution_count": 13,
   "metadata": {},
   "outputs": [
    {
     "name": "stdout",
     "output_type": "stream",
     "text": [
      "Value of integral: 2.5075\n"
     ]
    }
   ],
   "source": [
    "import numpy as np\n",
    "\n",
    "def integrate(f,a,b, n = 1000):\n",
    "    x = np.linspace(a, b, n+1)\n",
    "    h = x[1] - x[0]\n",
    "    I = h*(sum(f(x))- 0.5*f(a) + f(b))\n",
    "    return I\n",
    "\n",
    "def my_function(x):\n",
    "    return x*5\n",
    "\n",
    "low = 0\n",
    "high = 1\n",
    "\n",
    "I = integrate(my_function, low, high, n=1000)\n",
    "print('Value of integral:', I)"
   ]
  },
  {
   "cell_type": "code",
   "execution_count": 25,
   "metadata": {},
   "outputs": [
    {
     "name": "stdout",
     "output_type": "stream",
     "text": [
      "\n",
      "At t=0.60 s, a ball with\n",
      "initial velocity v0=5 m/s\n",
      "is located at the height 1.23 m.\n",
      "\n"
     ]
    }
   ],
   "source": [
    "v0 = 5\n",
    "g = 9.81\n",
    "t = 0.6\n",
    "y = v0*t - 0.5*g*t**2\n",
    "print(\"\"\"\n",
    "At t=%.2f s, a ball with\n",
    "initial velocity v0=%i m/s\n",
    "is located at the height %.2f m.\n",
    "\"\"\" % (t, v0, y))"
   ]
  },
  {
   "cell_type": "code",
   "execution_count": 28,
   "metadata": {},
   "outputs": [
    {
     "name": "stdout",
     "output_type": "stream",
     "text": [
      "Correct: False\n"
     ]
    }
   ],
   "source": [
    "a = 1; b = 4;\n",
    "computed = a + b\n",
    "expected = 3\n",
    "correct = computed == expected\n",
    "print('Correct:', correct)"
   ]
  },
  {
   "cell_type": "code",
   "execution_count": 29,
   "metadata": {},
   "outputs": [
    {
     "name": "stdout",
     "output_type": "stream",
     "text": [
      "v0 = 15.0 km/h\n",
      "theta = 60 degrees\n",
      "y0 = 1.0 m\n",
      "x = 0.5 m\n",
      "y = 0.7 m\n"
     ]
    }
   ],
   "source": [
    "g = 9.81 # m/s**2\n",
    "v0 = 15 # km/h\n",
    "theta = 60 # degrees\n",
    "x = 0.5 # m\n",
    "y0 = 1 # m\n",
    "print(\"\"\"v0 = %.1f km/h\n",
    "theta = %d degrees\n",
    "y0 = %.1f m\n",
    "x = %.1f m\"\"\" % (v0, theta, y0, x))\n",
    "# convert v0 to m/s and theta to radians:\n",
    "v0 = v0/3.6\n",
    "from math import pi, tan, cos\n",
    "theta = theta*pi/180\n",
    "y = x*tan(theta) - 1/(2*v0)*g*x**2/((cos(theta))**2) + y0\n",
    "print('y = %.1f m' % y)"
   ]
  }
 ],
 "metadata": {
  "kernelspec": {
   "display_name": "Python 3",
   "language": "python",
   "name": "python3"
  },
  "language_info": {
   "codemirror_mode": {
    "name": "ipython",
    "version": 3
   },
   "file_extension": ".py",
   "mimetype": "text/x-python",
   "name": "python",
   "nbconvert_exporter": "python",
   "pygments_lexer": "ipython3",
   "version": "3.6.1"
  }
 },
 "nbformat": 4,
 "nbformat_minor": 2
}
