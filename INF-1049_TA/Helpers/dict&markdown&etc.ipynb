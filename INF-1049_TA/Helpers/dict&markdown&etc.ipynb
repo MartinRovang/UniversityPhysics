{
 "cells": [
  {
   "cell_type": "code",
   "execution_count": 48,
   "metadata": {},
   "outputs": [
    {
     "name": "stdout",
     "output_type": "stream",
     "text": [
      "(5, 2, 1, 7, 4, 2, 6)\n"
     ]
    }
   ],
   "source": [
    "# dict = {\"Cars\": [i for i in range(5)], \"Hores\": [i for i in range(10) if i > 4]}\n",
    "\n",
    "# print(dict)\n",
    "# print(dict['Cars'])\n",
    "\n",
    "class monsters:\n",
    "    def __init__(self, *numbers):\n",
    "        self.numbers = numbers\n",
    "        \n",
    "    def __str__(self):\n",
    "        return '{}'.format(self.numbers)\n",
    "    \n",
    "    \n",
    "    \n",
    "    \n",
    "Hydra = monsters(5, 2, 1, 7, 4, 2, 6)\n",
    "\n",
    "print(Hydra)\n"
   ]
  },
  {
   "cell_type": "markdown",
   "metadata": {},
   "source": [
    "This is comment. Text can be _italic_, **bold**.\n",
    "# Title\n",
    "## subtitle\n",
    "* bullet 1\n",
    "\n",
    "$\\oint$\n"
   ]
  },
  {
   "cell_type": "code",
   "execution_count": 8,
   "metadata": {},
   "outputs": [
    {
     "name": "stdout",
     "output_type": "stream",
     "text": [
      "['hey', 'they', 'say', 'Hello']\n"
     ]
    }
   ],
   "source": [
    "duck = ['hey','they','say']\n",
    "\n",
    "\n",
    "duck.extend([\"Hello\"])\n",
    "\n",
    "print(duck)\n"
   ]
  },
  {
   "cell_type": "code",
   "execution_count": null,
   "metadata": {},
   "outputs": [],
   "source": []
  }
 ],
 "metadata": {
  "kernelspec": {
   "display_name": "Python 3",
   "language": "python",
   "name": "python3"
  },
  "language_info": {
   "codemirror_mode": {
    "name": "ipython",
    "version": 3
   },
   "file_extension": ".py",
   "mimetype": "text/x-python",
   "name": "python",
   "nbconvert_exporter": "python",
   "pygments_lexer": "ipython3",
   "version": "3.6.5"
  }
 },
 "nbformat": 4,
 "nbformat_minor": 2
}
