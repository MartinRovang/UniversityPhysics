{
 "cells": [
  {
   "cell_type": "code",
   "execution_count": 1,
   "metadata": {},
   "outputs": [
    {
     "name": "stdout",
     "output_type": "stream",
     "text": [
      "{'apple': 'green', 'banana': 'yellow', 'cherry': 'red', 'damson': 'purple'}\n",
      "{'apple', 'cherry', 'damson', 'banana'}\n"
     ]
    }
   ],
   "source": [
    "#Dictonary:\n",
    "\n",
    "thisdict ={\n",
    "  \"apple\": \"green\",\n",
    "  \"banana\": \"yellow\",\n",
    "  \"cherry\": \"red\"\n",
    "}\n",
    "\n",
    "thisdict = dict(apple=\"green\", banana=\"yellow\", cherry=\"red\")\n",
    "thisdict[\"damson\"] = \"purple\"\n",
    "\n",
    "print(thisdict)\n",
    "\n",
    "#Set\n",
    "thisset = {\"apple\", \"banana\", \"cherry\"}\n",
    "thisset.add(\"damson\")\n",
    "print(thisset)"
   ]
  },
  {
   "cell_type": "code",
   "execution_count": 18,
   "metadata": {},
   "outputs": [
    {
     "name": "stdout",
     "output_type": "stream",
     "text": [
      "['10', '10', '10', '10']\n",
      "Hello Hello Hello Hello Hello \n"
     ]
    }
   ],
   "source": [
    "\n",
    "\n",
    "print(['%d'%(5*2) for keys in thisdict])\n",
    "\n",
    "a = \"Hello \"\n",
    "\n",
    "b = a*5\n",
    "\n",
    "print(b)"
   ]
  },
  {
   "cell_type": "code",
   "execution_count": null,
   "metadata": {
    "collapsed": true
   },
   "outputs": [],
   "source": []
  }
 ],
 "metadata": {
  "kernelspec": {
   "display_name": "Python 3",
   "language": "python",
   "name": "python3"
  },
  "language_info": {
   "codemirror_mode": {
    "name": "ipython",
    "version": 3
   },
   "file_extension": ".py",
   "mimetype": "text/x-python",
   "name": "python",
   "nbconvert_exporter": "python",
   "pygments_lexer": "ipython3",
   "version": "3.6.3"
  }
 },
 "nbformat": 4,
 "nbformat_minor": 2
}
