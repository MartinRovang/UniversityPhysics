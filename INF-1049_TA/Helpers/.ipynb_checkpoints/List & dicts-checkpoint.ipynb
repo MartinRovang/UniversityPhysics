{
 "cells": [
  {
   "cell_type": "code",
   "execution_count": 6,
   "metadata": {},
   "outputs": [
    {
     "name": "stdout",
     "output_type": "stream",
     "text": [
      "{'apple': 'green', 'banana': 'yellow', 'cherry': 'red', 'damson': 'purple'}\n",
      "{'apple', 'banana', 'damson', 'cherry'}\n"
     ]
    }
   ],
   "source": [
    "#Dictonary:\n",
    "\n",
    "thisdict ={\n",
    "  \"apple\": \"green\",\n",
    "  \"banana\": \"yellow\",\n",
    "  \"cherry\": \"red\"\n",
    "}\n",
    "\n",
    "thisdict = dict(apple=\"green\", banana=\"yellow\", cherry=\"red\")\n",
    "thisdict[\"damson\"] = \"purple\"\n",
    "\n",
    "print(thisdict)\n",
    "\n",
    "#Set\n",
    "thisset = {\"apple\", \"banana\", \"cherry\"}\n",
    "thisset.add(\"damson\")\n",
    "print(thisset)"
   ]
  },
  {
   "cell_type": "code",
   "execution_count": null,
   "metadata": {},
   "outputs": [],
   "source": []
  }
 ],
 "metadata": {
  "kernelspec": {
   "display_name": "Python 3",
   "language": "python",
   "name": "python3"
  },
  "language_info": {
   "codemirror_mode": {
    "name": "ipython",
    "version": 3
   },
   "file_extension": ".py",
   "mimetype": "text/x-python",
   "name": "python",
   "nbconvert_exporter": "python",
   "pygments_lexer": "ipython3",
   "version": "3.6.5"
  }
 },
 "nbformat": 4,
 "nbformat_minor": 2
}
