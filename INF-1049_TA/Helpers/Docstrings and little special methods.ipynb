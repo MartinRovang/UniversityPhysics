{
 "cells": [
  {
   "cell_type": "code",
   "execution_count": 11,
   "metadata": {},
   "outputs": [
    {
     "name": "stdout",
     "output_type": "stream",
     "text": [
      "\n",
      "At t = 1.000000 s, a ball with initial velocity v0 = 2.000E+00 m/s\n",
      "is located at the height 3.00 m.\n",
      "\n",
      "Hello\n",
      "Whatsup\n",
      "5\n",
      "1 2\n"
     ]
    }
   ],
   "source": [
    "t = 1\n",
    "v0 = 2\n",
    "y = 3\n",
    "\n",
    "print(\"\"\"\n",
    "At t = {t:f} s, a ball with initial velocity v0 = {v0:.3E} m/s\n",
    "is located at the height {y:.2f} m.\n",
    "\"\"\".format(t = t, v0 = v0, y = y))\n",
    "\n",
    "\n",
    "print(\"Hello\"); print(\"Whatsup\"); b = 5; print(b)\n",
    "\n",
    "print(t, v0)"
   ]
  },
  {
   "cell_type": "code",
   "execution_count": 2,
   "metadata": {},
   "outputs": [
    {
     "name": "stdout",
     "output_type": "stream",
     "text": [
      "Dette er en larvefunksjon som spruter mjølk\n",
      "    Jeg heter Martin og er en blekkfisk\n"
     ]
    }
   ],
   "source": [
    "def test():\n",
    "    \"\"\"Dette er en larvefunksjon som spruter mjølk\n",
    "    Jeg heter Martin og er en blekkfisk\"\"\"\n",
    "    return 5\n",
    "\n",
    "print(test.__doc__)"
   ]
  },
  {
   "cell_type": "code",
   "execution_count": 15,
   "metadata": {},
   "outputs": [
    {
     "name": "stdout",
     "output_type": "stream",
     "text": [
      "Test 4 \n"
     ]
    }
   ],
   "source": [
    "print(\"Test %d \"%(2*2))\n"
   ]
  },
  {
   "cell_type": "code",
   "execution_count": 38,
   "metadata": {},
   "outputs": [
    {
     "name": "stdout",
     "output_type": "stream",
     "text": [
      "10\n",
      "5\n",
      "15\n",
      "15\n"
     ]
    }
   ],
   "source": [
    "class larvefisk:\n",
    "    \"\"\"TEST DETTE ER DOCSTRINGdd\"\"\"\n",
    "    def __init__(self, x):\n",
    "        self.numb = x\n",
    "    def __add__(self, other):\n",
    "        number = self.numb + other.numb\n",
    "        return number\n",
    "    def __str__(self):\n",
    "        return str(self.numb)\n",
    "\n",
    "\n",
    "test = larvefisk(10)\n",
    "test2 = larvefisk(5)\n",
    "\n",
    "\n",
    "obj.__doc__\n",
    "\n",
    "\n",
    "a = 7\n",
    "b = 3\n",
    "\n",
    "# print(b.__add__(b))\n",
    "# print(a.__mul__(b))\n",
    "\n",
    "\n",
    "print(test)\n",
    "print(test2)\n",
    "test3 = test + test2 #--> test.__add__(test2)\n",
    "\n",
    "test4 = test.__add__(test2)\n",
    "\n",
    "print(test3)\n",
    "print(test4)\n",
    "\n"
   ]
  },
  {
   "cell_type": "code",
   "execution_count": 6,
   "metadata": {},
   "outputs": [
    {
     "name": "stdout",
     "output_type": "stream",
     "text": [
      "Hey jeg heter Martin, men ikke skyt meg når du drar klokka 5\n"
     ]
    }
   ],
   "source": [
    "t = \"Martin\"; b = 5\n",
    "\n",
    "print(\"Hey jeg heter {t:s}, men ikke skyt meg når du drar klokka {b:d}\".format(t = t, b = b))"
   ]
  },
  {
   "cell_type": "code",
   "execution_count": null,
   "metadata": {
    "collapsed": true
   },
   "outputs": [],
   "source": []
  }
 ],
 "metadata": {
  "kernelspec": {
   "display_name": "Python 3",
   "language": "python",
   "name": "python3"
  },
  "language_info": {
   "codemirror_mode": {
    "name": "ipython",
    "version": 3
   },
   "file_extension": ".py",
   "mimetype": "text/x-python",
   "name": "python",
   "nbconvert_exporter": "python",
   "pygments_lexer": "ipython3",
   "version": "3.6.3"
  }
 },
 "nbformat": 4,
 "nbformat_minor": 2
}
