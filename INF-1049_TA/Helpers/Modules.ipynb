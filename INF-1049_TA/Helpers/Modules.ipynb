{
 "cells": [
  {
   "cell_type": "code",
   "execution_count": 2,
   "metadata": {},
   "outputs": [
    {
     "name": "stdout",
     "output_type": "stream",
     "text": [
      "Hello, Martin\n"
     ]
    }
   ],
   "source": [
    "import mymodule\n",
    "\n",
    "mymodule.greeting(\"Martin\")"
   ]
  },
  {
   "cell_type": "code",
   "execution_count": 3,
   "metadata": {},
   "outputs": [
    {
     "name": "stdout",
     "output_type": "stream",
     "text": [
      "36\n"
     ]
    }
   ],
   "source": [
    "import mymodule\n",
    "\n",
    "a = mymodule.person1[\"age\"]\n",
    "print(a)"
   ]
  },
  {
   "cell_type": "code",
   "execution_count": 13,
   "metadata": {},
   "outputs": [
    {
     "name": "stdout",
     "output_type": "stream",
     "text": [
      "Name: Peter Hansen, Position: Student, Age: 36\n",
      "Name: Johan Ekeberg, Position: Student, Age: 12\n",
      "Name: Gulf Øynesund, Position: Student, Age: 29\n",
      "36\n"
     ]
    }
   ],
   "source": [
    "import mymodule\n",
    "\n",
    "Person_1 = mymodule.person(\"Peter Hansen\", \"Student\", 36)\n",
    "Person_2 = mymodule.person(\"Johan Ekeberg\", \"Student\", 12)\n",
    "Person_3 = mymodule.person(\"Gulf Øynesund\", \"Student\", 29)\n",
    "\n",
    "\n",
    "Person_1.Show_All()\n",
    "Person_2.Show_All()\n",
    "Person_3.Show_All()\n",
    "\n",
    "# del Person_1\n",
    "\n",
    "print(Person_1.age)"
   ]
  },
  {
   "cell_type": "code",
   "execution_count": null,
   "metadata": {},
   "outputs": [],
   "source": []
  }
 ],
 "metadata": {
  "kernelspec": {
   "display_name": "Python 3",
   "language": "python",
   "name": "python3"
  },
  "language_info": {
   "codemirror_mode": {
    "name": "ipython",
    "version": 3
   },
   "file_extension": ".py",
   "mimetype": "text/x-python",
   "name": "python",
   "nbconvert_exporter": "python",
   "pygments_lexer": "ipython3",
   "version": "3.6.5"
  }
 },
 "nbformat": 4,
 "nbformat_minor": 2
}
