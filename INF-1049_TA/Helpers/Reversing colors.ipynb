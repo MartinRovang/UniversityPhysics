{
 "cells": [
  {
   "cell_type": "code",
   "execution_count": 11,
   "metadata": {},
   "outputs": [
    {
     "name": "stdout",
     "output_type": "stream",
     "text": [
      "purple\n",
      "green\n",
      "blue\n",
      "red\n",
      "purple\n",
      "green\n",
      "blue\n",
      "red\n",
      "0 --> red\n",
      "1 --> blue\n",
      "2 --> green\n",
      "3 --> purple\n",
      "0 --> red\n",
      "1 --> blue\n",
      "2 --> green\n",
      "3 --> purple\n",
      "Cars\n",
      "Hello\n",
      "Tears\n",
      "People\n",
      "Dead\n",
      "Valar\n"
     ]
    }
   ],
   "source": [
    "colors = ['red', 'blue', 'green', 'purple']\n",
    "\n",
    "for i in range(len(colors)-1,-1,-1):\n",
    "    print(colors[i])\n",
    "\n",
    "    \n",
    "    \n",
    "for color in reversed(colors):\n",
    "    print(color)\n",
    "    \n",
    "\n",
    "    \n",
    "for i in range(len(colors)):\n",
    "    print(i, '-->', colors[i])\n",
    "\n",
    "    \n",
    "for i, color in enumerate(colors):\n",
    "    print(i, '-->', colors[i])\n",
    "    \n",
    "    \n",
    "    \n",
    "d = {\"Cars\": \"Hello\", \"Tears\": \"People\", \"Dead\": \"Valar\"}\n",
    "\n",
    "\n",
    "for k in d:\n",
    "    print(k)\n",
    "    print(d[k])"
   ]
  },
  {
   "cell_type": "code",
   "execution_count": null,
   "metadata": {},
   "outputs": [],
   "source": []
  }
 ],
 "metadata": {
  "kernelspec": {
   "display_name": "Python 3",
   "language": "python",
   "name": "python3"
  },
  "language_info": {
   "codemirror_mode": {
    "name": "ipython",
    "version": 3
   },
   "file_extension": ".py",
   "mimetype": "text/x-python",
   "name": "python",
   "nbconvert_exporter": "python",
   "pygments_lexer": "ipython3",
   "version": "3.6.5"
  }
 },
 "nbformat": 4,
 "nbformat_minor": 2
}
