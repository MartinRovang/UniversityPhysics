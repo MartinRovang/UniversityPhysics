{
 "cells": [
  {
   "cell_type": "markdown",
   "metadata": {},
   "source": [
    "![title](img/velkommen.jpg)"
   ]
  },
  {
   "cell_type": "markdown",
   "metadata": {},
   "source": [
    "# Velkommen\n",
    "\n",
    "## -Mitt navn er Martin, er 26 år, 3 år Fysikk Bachelor\n",
    "## -Er også fadder for fysikk bachelor/forkurs.\n",
    "\n",
    "\n",
    "\n",
    "\n",
    "\n",
    "\n",
    "# Motivasjon\n",
    "\n",
    "## -Hva kan man gjøre med inf-1049/ Python?\n",
    "## -norsent.herokuapp.com\n",
    "## - registrering? (skulle egentlig bli brukt :( )\n",
    "## -fysikkrelatert arbeid\n",
    "\n",
    "\n",
    "\n",
    "\n",
    "\n",
    "\n",
    "\n",
    "\n",
    "# Ekstra hjelpemidler\n",
    "\n",
    "## -Boken (seff! veldig bra bok)\n",
    "## -YOUTUBE OG GOOGLE!!!!\n",
    "## -Sololearn app <img src=https://d2gn4xht817m0g.cloudfront.net/p/product_screenshots/images/original/000/699/949/699949-5a10ef70ba01a6d2254d36f6aac89f419a13e5de.png width=\"500\">\n",
    "## -http://www.pythontutor.com/visualize.html#mode=edit\n",
    "\n",
    "## -Wolfram Alpha\n",
    "\n",
    "\n",
    "\n",
    "\n",
    "\n",
    "\n",
    "\n",
    "\n",
    "\n",
    "# Annen info\n",
    "\n",
    "## -Help-desk installasjon onsdag og torsdag kl 16:00-18:00\n",
    "\n",
    "## Obligger\n",
    "![title](img/oblig1.png)\n",
    "\n",
    "## Hvis ikke bestått ----> ingen eksamen. (kan leveres 2 ganger tilsammen, hvis det er noe spesielt (sykdom eller lignende snakk med meg))\n",
    "\n",
    "<h1><span style=\"color:red\">Fusk og plagiering</span></h1><br>\n",
    "<span style=\"color:red\">Som student plikter du å sette deg inn i reglene som gjelder for bruk av hjelpemiddel ved eksamen samt regler for kildebruk og sitering. Ved brudd på disse reglene kan du bli mistenkt for fusk eller forsøk på fusk. Fusk på eksamen og plagiering i skriftlige arbeider innebærer at man bryter med det man kaller akademisk redelighet. Akademisk redelighet dreier seg om å være tydelig i forhold til hvilke tanker og refleksjoner som er ens egne og hvilke som er hentet fra andres arbeider, slik at arbeidet kan etterprøves. Fusk er alvorlig og straffes med annullering av eksamen og/eller utestenging fra universitetet. Bruk tid på å sette deg inn hva som regnes som plagiering eller fusk. Instituttets web-side Kildebruk, plagiering og fusk på eksamen / obligatoriske oppgaver (Lenker til en ekstern side.)Lenker til en ekstern side. er en god start for å lære mer om dette.</span>\n",
    "\n",
    "\n",
    "\n",
    "\n",
    "\n",
    "# Litt info om obligger\n",
    "\n",
    "## Kommentering / docstrings\n",
    "## Fint og ryddig, gjerne med printf, husk at notebook beholder variabler i kernel"
   ]
  },
  {
   "cell_type": "code",
   "execution_count": null,
   "metadata": {},
   "outputs": [],
   "source": [
    "\n",
    "\n",
    "\n",
    "\n",
    "\n",
    "\n",
    "\n",
    "\n",
    "\n",
    "\n",
    "\n",
    "\n",
    "\n"
   ]
  },
  {
   "cell_type": "code",
   "execution_count": null,
   "metadata": {
    "collapsed": true
   },
   "outputs": [],
   "source": []
  }
 ],
 "metadata": {
  "kernelspec": {
   "display_name": "Python 3",
   "language": "python",
   "name": "python3"
  },
  "language_info": {
   "codemirror_mode": {
    "name": "ipython",
    "version": 3
   },
   "file_extension": ".py",
   "mimetype": "text/x-python",
   "name": "python",
   "nbconvert_exporter": "python",
   "pygments_lexer": "ipython3",
   "version": "3.6.3"
  }
 },
 "nbformat": 4,
 "nbformat_minor": 2
}
